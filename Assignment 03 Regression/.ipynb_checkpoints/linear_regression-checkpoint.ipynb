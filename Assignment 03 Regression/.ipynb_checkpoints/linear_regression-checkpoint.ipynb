{
 "cells": [
  {
   "cell_type": "code",
   "execution_count": 1,
   "id": "d98c07de-1c82-44ce-b74f-0dcf22c443c5",
   "metadata": {},
   "outputs": [],
   "source": [
    "import pandas as pd\n",
    "import numpy as np\n",
    "import matplotlib.pyplot as plt\n",
    "import sklearn\n",
    "import seaborn as sns\n",
    "from sklearn.model_selection import train_test_split"
   ]
  },
  {
   "cell_type": "code",
   "execution_count": 2,
   "id": "eebe5132-9a23-4ffd-97b6-95e5d4831060",
   "metadata": {},
   "outputs": [
    {
     "name": "stdout",
     "output_type": "stream",
     "text": [
      "<class 'pandas.core.frame.DataFrame'>\n",
      "RangeIndex: 700 entries, 0 to 699\n",
      "Data columns (total 2 columns):\n",
      " #   Column  Non-Null Count  Dtype  \n",
      "---  ------  --------------  -----  \n",
      " 0   x       700 non-null    float64\n",
      " 1   y       699 non-null    float64\n",
      "dtypes: float64(2)\n",
      "memory usage: 11.1 KB\n"
     ]
    }
   ],
   "source": [
    "df = pd.read_csv('./data_for_lr.csv')\n",
    "df.info()"
   ]
  },
  {
   "cell_type": "code",
   "execution_count": 3,
   "id": "d1e2ca27-57e2-4dbe-bb9a-71de73862deb",
   "metadata": {},
   "outputs": [
    {
     "data": {
      "image/png": "[encoded data removed]",
      "text/plain": [
       "<Figure size 640x480 with 1 Axes>"
      ]
     },
     "metadata": {},
     "output_type": "display_data"
    },
    {
     "data": {
      "text/plain": [
       "0    2.331462e+06\n",
       "dtype: float64"
      ]
     },
     "execution_count": 3,
     "metadata": {},
     "output_type": "execute_result"
    }
   ],
   "source": [
    "df.dropna()\n",
    "n = 700\n",
    "\n",
    "plt.scatter(df['x'],df['y'])\n",
    "plt.xlabel('X')\n",
    "plt.ylabel('Y')\n",
    "plt.show()\n",
    "\n",
    "\n",
    "# df_train = df.split()\n",
    "x_sum = df['x'].sum()\n",
    "y_sum = df['y'].sum()\n",
    "xy = pd.DataFrame(df['x'] * df['y']).sum()\n",
    "\n",
    "x2_sum = pd.DataFrame(df['x']*df['x']).sum()\n",
    "x2_sum = int(x2_sum)\n",
    "\n",
    "x_sum\n",
    "\n",
    "y_sum\n",
    "\n",
    "xy"
   ]
  },
  {
   "cell_type": "markdown",
   "id": "c7577682-b4c6-4600-9425-09b9d0628755",
   "metadata": {
    "slideshow": {
     "slide_type": ""
    },
    "tags": []
   },
   "source": [
    "### Simple Linear Regression:"
   ]
  },
  {
   "cell_type": "markdown",
   "id": "a75bee6e-f80b-485a-8ad7-e2a6c524d879",
   "metadata": {},
   "source": [
    "$$ Y = a + bX $$\n",
    "\n",
    "$$ $$\n",
    "\n",
    "$${a} = \\frac{\\sum{y} \\cdot \\sum{x^2} - \\sum{x} \\cdot \\sum{xy}} {{n \\cdot \\sum{x^2} - {\\sum{x}}^2}} $$\n",
    "\n",
    "$$ $$\n",
    "\n",
    "$${b} = \\frac{n \\cdot \\sum{xy} - \\sum{x} \\cdot \\sum{y}}{n \\cdot \\sum{x^2} - {\\sum{x}}^2}$$\n"
   ]
  },
  {
   "cell_type": "code",
   "execution_count": 4,
   "id": "15fdfc36-6005-40a7-bfb1-f9322f440968",
   "metadata": {
    "scrolled": true
   },
   "outputs": [
    {
     "data": {
      "text/plain": [
       "0    48.081753\n",
       "dtype: float64"
      ]
     },
     "execution_count": 4,
     "metadata": {},
     "output_type": "execute_result"
    }
   ],
   "source": [
    "a = ((y_sum * x2_sum) - (x_sum * xy)) / ((n*x2_sum)-(x_sum**2))\n",
    "a"
   ]
  },
  {
   "cell_type": "code",
   "execution_count": 5,
   "id": "2a3acf8d-1abd-4505-929d-527d8c50fb6b",
   "metadata": {},
   "outputs": [
    {
     "data": {
      "text/plain": [
       "0    0.032495\n",
       "dtype: float64"
      ]
     },
     "execution_count": 5,
     "metadata": {},
     "output_type": "execute_result"
    }
   ],
   "source": [
    "b = ((n * xy) - (x_sum * y_sum)) / ((n*x2_sum)-(x_sum**2))\n",
    "b"
   ]
  },
  {
   "cell_type": "markdown",
   "id": "2b441e3b-b4de-4fd4-b206-614065c81731",
   "metadata": {},
   "source": [
    "##### Equation of linear regression by manual calculation using above formulae is give by\n",
    "$$ Y = {48} + {0.032495} X $$\n",
    "\n",
    "##### where Intercept = 48 and slope = 0.032495"
   ]
  },
  {
   "cell_type": "markdown",
   "id": "e147fecb-de3b-4674-a315-5590e1900a88",
   "metadata": {},
   "source": [
    "### We can also use library function to find linear regression model as shown below:"
   ]
  },
  {
   "cell_type": "code",
   "execution_count": 8,
   "id": "ab5aaee3-83a2-4929-afe0-8d31a8cec2a0",
   "metadata": {},
   "outputs": [],
   "source": [
    "from scipy import stats\n",
    "\n",
    "# x = [5,7,8,7,2,17,2,9,4,11,12,9,6]\n",
    "# y = [99,86,87,88,111,86,103,87,94,78,77,85,86]\n",
    "# x = df['x']\n",
    "# y = df['y']\n",
    "xk = []\n",
    "yk = []\n",
    "\n",
    "for i in df['x']:\n",
    "    i = int(i)\n",
    "    xk.append(i)\n",
    "\n",
    "df = df.dropna(how='any')\n",
    "\n",
    "for i in df['y']:\n",
    "  yk.append(int(i))  \n"
   ]
  },
  {
   "cell_type": "code",
   "execution_count": 9,
   "id": "9b04e6d7-450c-4c7d-982f-a884cc3e7669",
   "metadata": {},
   "outputs": [],
   "source": [
    "slope, intercept, r, p, std_err = stats.linregress(xk,yk)\n",
    "# slope\n",
    "# intercept"
   ]
  },
  {
   "cell_type": "code",
   "execution_count": 10,
   "id": "05604910-6bad-4bff-b28a-c0f07e9f0ffb",
   "metadata": {},
   "outputs": [],
   "source": [
    "def getY(k):\n",
    "    return (int(slope) * k + int(intercept))"
   ]
  },
  {
   "cell_type": "code",
   "execution_count": 11,
   "id": "4de71000-9d98-4ea8-b399-7b6a50f4f5d4",
   "metadata": {},
   "outputs": [
    {
     "data": {
      "image/png": "[encoded data removed]",
      "text/plain": [
       "<Figure size 640x480 with 1 Axes>"
      ]
     },
     "metadata": {},
     "output_type": "display_data"
    }
   ],
   "source": [
    "myModel = list(map(getY, xk))\n",
    "\n",
    "# plt.scatter(x, y)\n",
    "plt.scatter(xk, yk, label='train')\n",
    "plt.plot(xk, myModel, color='red', label='predicted')\n",
    "plt.legend()\n",
    "plt.show()\n"
   ]
  },
  {
   "cell_type": "code",
   "execution_count": 12,
   "id": "e09dcc93-b704-4725-88d9-0eab90f5b09a",
   "metadata": {},
   "outputs": [
    {
     "name": "stdout",
     "output_type": "stream",
     "text": [
      "0.9953770614047959\n"
     ]
    }
   ],
   "source": [
    "print(r)"
   ]
  },
  {
   "cell_type": "code",
   "execution_count": 13,
   "id": "a5c26237-98c1-49f9-90c3-a62c7dd8b76b",
   "metadata": {},
   "outputs": [
    {
     "data": {
      "text/plain": [
       "99.04221563286843"
      ]
     },
     "execution_count": 13,
     "metadata": {},
     "output_type": "execute_result"
    }
   ],
   "source": [
    "from sklearn.metrics import r2_score\n",
    "accuracy=r2_score(yk,myModel)*100\n",
    "\n",
    "accuracy"
   ]
  },
  {
   "cell_type": "code",
   "execution_count": 14,
   "id": "07328a52-1286-4ada-922a-aa47bc4d4f81",
   "metadata": {},
   "outputs": [
    {
     "name": "stdout",
     "output_type": "stream",
     "text": [
      "0.003656465981375799\n"
     ]
    }
   ],
   "source": [
    "print(std_err)"
   ]
  }
 ],
 "metadata": {
  "kernelspec": {
   "display_name": "Python 3 (ipykernel)",
   "language": "python",
   "name": "python3"
  },
  "language_info": {
   "codemirror_mode": {
    "name": "ipython",
    "version": 3
   },
   "file_extension": ".py",
   "mimetype": "text/x-python",
   "name": "python",
   "nbconvert_exporter": "python",
   "pygments_lexer": "ipython3",
   "version": "3.9.6"
  }
 },
 "nbformat": 4,
 "nbformat_minor": 5
}
